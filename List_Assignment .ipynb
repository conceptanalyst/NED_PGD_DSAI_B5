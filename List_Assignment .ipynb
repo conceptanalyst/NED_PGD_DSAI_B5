{
 "cells": [
  {
   "cell_type": "code",
   "execution_count": 22,
   "id": "654a3266",
   "metadata": {},
   "outputs": [
    {
     "data": {
      "text/plain": [
       "['apple', 'mango', 'banana', 'grap', 'kiwi', 'pear']"
      ]
     },
     "execution_count": 22,
     "metadata": {},
     "output_type": "execute_result"
    }
   ],
   "source": [
    "fruits=[\"apple\",\"banana\",\"orange\",\"grap\",\"kiwi\"]\n",
    "fruits.append(\"pear\")      #to add pear at the  end of the list\n",
    "fruits.insert(1,\"mango\")   # to insert mango at second podition with index[1]\n",
    "fruits.pop(fruits.index(\"orange\")) # to delete orange from the list\n",
    "fruits"
   ]
  },
  {
   "cell_type": "code",
   "execution_count": 61,
   "id": "59fbd325",
   "metadata": {},
   "outputs": [
    {
     "name": "stdout",
     "output_type": "stream",
     "text": [
      "[0, 1, 2, 3, 4, 5, 6, 7, 8, 9]\n",
      "3\n",
      "[2, 3, 4, 5, 6]\n",
      "[7, 8, 9]\n"
     ]
    }
   ],
   "source": [
    "numbers=[]\n",
    "for i in range(0,10):\n",
    "    numbers.append(i)   # generates the list of numbers and keep them in list\n",
    "print(numbers)\n",
    "print(numbers[3])   # print the number at index 3\n",
    "print(numbers[2:7]) # print the numbers form index 2 to 6(inclusive)\n",
    "print(numbers[-3:]) # print the last three elements\n"
   ]
  },
  {
   "cell_type": "code",
   "execution_count": 92,
   "id": "0ca8dbbe",
   "metadata": {},
   "outputs": [
    {
     "name": "stdout",
     "output_type": "stream",
     "text": [
      "[1, 4, 9, 16, 25, 36, 49, 64, 81, 100]\n",
      "[4, 16, 36, 64, 100]\n"
     ]
    }
   ],
   "source": [
    "squares=[m*m for m in range(1,11)] #generating list of squares from 1 to 10\n",
    "print(squares)\n",
    "even_squares=[i for i in squares if (i % 2) ==0] #generating a list of even_squares from squares\n",
    "print(even_squares)"
   ]
  },
  {
   "cell_type": "code",
   "execution_count": 9,
   "id": "6f103218",
   "metadata": {},
   "outputs": [
    {
     "name": "stdout",
     "output_type": "stream",
     "text": [
      "['red', 'green', 'blue', 'yellow', 'purple']\n",
      "['purple', 'green', 'blue', 'yellow', 'red']\n"
     ]
    }
   ],
   "source": [
    "colours=[\"red\",\"green\",\"blue\",\"yellow\",\"purple\"]\n",
    "print(colours)     #list before swapping\n",
    "red_index=colours.index(\"red\")\n",
    "purple_index=colours.index(\"purple\")\n",
    "colours[red_index], colours[purple_index] = colours[purple_index], colours[red_index]  #swaping red and purple\n",
    "print(colours)     #list after swapping"
   ]
  },
  {
   "cell_type": "code",
   "execution_count": 8,
   "id": "f0622c76",
   "metadata": {},
   "outputs": [
    {
     "name": "stdout",
     "output_type": "stream",
     "text": [
      "['a', 'b', 'c', 'd', 'e', 'f', 'g', 'h', 'i', 'j']\n",
      "['a', 'b', 'c', 'd', 'e']\n",
      "['h', 'i', 'j']\n"
     ]
    }
   ],
   "source": [
    "text=\"abcdefghij\"\n",
    "letters=[]\n",
    "for i in text:\n",
    "    letters.append(i)    \n",
    "print(letters)\n",
    "first_half=letters[0:len(letters)//2]   #slicing for the first half (first five ) letters from the letters list\n",
    "print(first_half)\n",
    "last_three=letters[-3:]   # Slicing for the last three letters from the letters list\n",
    "print(last_three)"
   ]
  },
  {
   "cell_type": "code",
   "execution_count": 3,
   "id": "744d7ff3",
   "metadata": {},
   "outputs": [
    {
     "name": "stdout",
     "output_type": "stream",
     "text": [
      "6\n",
      "[[1, 2, 3], [4, 5, 6], [7, 8, 9]]\n",
      "[[1, 2, 3], [0, 5, 6], [7, 8, 9]]\n"
     ]
    }
   ],
   "source": [
    "counter=1\n",
    "metrix=[]\n",
    "for c in range(1,4):\n",
    "    list=[]\n",
    "    for i in range(1,4):       # to generate the sublist of three items\n",
    "        list.append(counter)   # creats a a sublist of three elements \n",
    "        counter=counter+1\n",
    "    metrix.append(list)        #appends the metrix to add sublist\n",
    "print(metrix[1][2])\n",
    "print(metrix) \n",
    "metrix[1][0]=0                # to change the value at the second row and first column to 0\n",
    "print(metrix) "
   ]
  }
 ],
 "metadata": {
  "kernelspec": {
   "display_name": "Python 3 (ipykernel)",
   "language": "python",
   "name": "python3"
  },
  "language_info": {
   "codemirror_mode": {
    "name": "ipython",
    "version": 3
   },
   "file_extension": ".py",
   "mimetype": "text/x-python",
   "name": "python",
   "nbconvert_exporter": "python",
   "pygments_lexer": "ipython3",
   "version": "3.11.3"
  }
 },
 "nbformat": 4,
 "nbformat_minor": 5
}
