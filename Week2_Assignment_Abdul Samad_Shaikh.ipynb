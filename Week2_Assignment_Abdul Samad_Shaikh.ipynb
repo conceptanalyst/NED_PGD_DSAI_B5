{
 "cells": [
  {
   "cell_type": "code",
   "execution_count": 3,
   "id": "2bf0dd61",
   "metadata": {},
   "outputs": [
    {
     "name": "stdout",
     "output_type": "stream",
     "text": [
      "My name is Abdul Samad Shaikh I am 40 years old. I live in PAkistan\n"
     ]
    }
   ],
   "source": [
    "#1. Create a variable `name` and assign your name to it.\n",
    "#2. Create a variable `age` and assign your age to it.\n",
    "#3. Create a variable `country` and assign your country of residence to it.\n",
    "#4. Using the `+` operator, concatenate the variables to form a sentence in the following format: \"My name is `<name>`, I am `<age>` years old, and I live in `<country>`.\"\n",
    "#5. Print the concatenated sentence.\n",
    "\n",
    "name=\"Abdul Samad Shaikh\"\n",
    "age=40\n",
    "country=\"Pakistan\"\n",
    "print(\"My name is \"+name+\" I am \"+str(age)+\" years old. I live in \"+country)\n"
   ]
  },
  {
   "cell_type": "code",
   "execution_count": 13,
   "id": "0b292573",
   "metadata": {},
   "outputs": [
    {
     "name": "stdout",
     "output_type": "stream",
     "text": [
      "I bought 5 laptops at 50000 each, for a total cost of $250000\n"
     ]
    }
   ],
   "source": [
    "# Create a variable `item` and assign a product name to it (e.g., \"laptop\", \"book\", \"phone\").\n",
    "#2. Create a variable `price` and assign a price to the item.\n",
    "#3. Create a variable `quantity` and assign a quantity value.\n",
    "#4. Calculate the total cost using the formula: `total_cost = price * quantity`.\n",
    "#5. Using the `.format()` method, create a formatted string: \"I bought `<quantity>` `<item>`(s) at `<price>` each, for a total of $`<total_cost>`.\"\n",
    "#6. Print the formatted string.\n",
    "\n",
    "item='laptop'\n",
    "price=50000\n",
    "quantity=5\n",
    "total_cost=price*quantity\n",
    "print(\"I bought {} {}s at {} each, for a total cost of ${}\".format(quantity,item,price,total_cost))\n",
    "\n"
   ]
  },
  {
   "cell_type": "code",
   "execution_count": 69,
   "id": "0d85cd8b",
   "metadata": {},
   "outputs": [
    {
     "name": "stdout",
     "output_type": "stream",
     "text": [
      "Tempreture in Karachi is 90 °C.\n"
     ]
    }
   ],
   "source": [
    "#1. Create a variable `city` and assign the name of a city.\n",
    "#2. Create a variable `temperature` and assign a temperature value in Celsius.\n",
    "#3. Using `f''` string interpolation, create a string: \"The temperature in `<city>` is `<temperature>`°C.\"\n",
    "#4. Print the interpolated string.\n",
    "\n",
    "city='Karachi'\n",
    "tempreture=90\n",
    "print(f\"Tempreture in {city} is {tempreture} \"+chr(176) +\"C.\" )\n"
   ]
  },
  {
   "cell_type": "code",
   "execution_count": 36,
   "id": "a5e91715",
   "metadata": {},
   "outputs": [
    {
     "name": "stdout",
     "output_type": "stream",
     "text": [
      "My name is Abdul Samad Shaikh. I am 41 years old\n"
     ]
    }
   ],
   "source": [
    "#1. Create a variable `first_name` and assign your first name to it.\n",
    "#2. Create a variable `last_name` and assign your last name to it.\n",
    "#3. Create a variable `birth_year` and assign your birth year.\n",
    "#4. Calculate your age using the formula: `age = current_year - birth_year`, where `current_year` is the current year.\n",
    "#5. Using `%()` string formatting, create a string: \"My name is %(first_name)s %(last_name)s. I am %(age)d years old.\"\n",
    "#6. Print the formatted string.\n",
    "\n",
    "first_name='Abdul Samad'\n",
    "last_name='Shaikh'\n",
    "birth_year=1982\n",
    "current_year=2023\n",
    "age=current_year-birth_year\n",
    "print(\"My name is %s %s. I am %d years old\"%(first_name,last_name,age))\n"
   ]
  },
  {
   "cell_type": "code",
   "execution_count": 15,
   "id": "a09a5c7f",
   "metadata": {},
   "outputs": [
    {
     "name": "stdout",
     "output_type": "stream",
     "text": [
      "The product name is book ,the original price was 500,  the discount percentage is 0.1, the discounted price is 450.0.\n"
     ]
    }
   ],
   "source": [
    "product='book'\n",
    "discount=0.1\n",
    "original_price=500\n",
    "discounted_price=original_price*(1-discount)\n",
    "descriptive_string=\"The product name is \"+product+\" ,\\\n",
    "the original price was %s, \"%(original_price) + \\\n",
    "f\" the discount percentage is {discount},\"+\\\n",
    "\" the discounted price is {}.\".format(discounted_price) \n",
    "print(descriptive_string)"
   ]
  },
  {
   "cell_type": "code",
   "execution_count": null,
   "id": "7d9b42dc",
   "metadata": {},
   "outputs": [],
   "source": []
  }
 ],
 "metadata": {
  "kernelspec": {
   "display_name": "Python 3 (ipykernel)",
   "language": "python",
   "name": "python3"
  },
  "language_info": {
   "codemirror_mode": {
    "name": "ipython",
    "version": 3
   },
   "file_extension": ".py",
   "mimetype": "text/x-python",
   "name": "python",
   "nbconvert_exporter": "python",
   "pygments_lexer": "ipython3",
   "version": "3.11.3"
  }
 },
 "nbformat": 4,
 "nbformat_minor": 5
}
